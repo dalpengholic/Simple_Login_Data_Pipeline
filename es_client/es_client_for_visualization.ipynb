{
 "cells": [
  {
   "cell_type": "code",
   "execution_count": 1,
   "id": "d1667f33",
   "metadata": {},
   "outputs": [],
   "source": [
    "from elasticsearch import Elasticsearch\n",
    "import numpy as np\n",
    "import pandas as pd\n",
    "import matplotlib.pyplot as plt\n",
    "import os"
   ]
  },
  {
   "cell_type": "code",
   "execution_count": null,
   "id": "24e5e144",
   "metadata": {},
   "outputs": [],
   "source": [
    "# Get the environment variables\n",
    "ELASTIC_PASSWORD = os.environ.get('ES_PASSWORD')\n",
    "\n",
    "# Create the client instance\n",
    "client = Elasticsearch(\n",
    "    \"https://es:9200\",\n",
    "    ca_certs=\"/home/jovyan/work/ca.crt\",\n",
    "    basic_auth=(\"elastic\", ELASTIC_PASSWORD)\n",
    ")\n",
    "\n",
    "# Successful response!\n",
    "client.info()\n",
    "# {'name': 'instance-0000000000', 'cluster_name': ...}"
   ]
  },
  {
   "cell_type": "code",
   "execution_count": null,
   "id": "265b6fa7",
   "metadata": {},
   "outputs": [],
   "source": [
    "total_docs = 12\n",
    "response = client.search(index='user-login', size=total_docs)\n",
    "login_list = []\n",
    "for key, val in response[\"hits\"].items():\n",
    "    if key == \"hits\":\n",
    "        for num, doc in enumerate(val):\n",
    "            print(doc[\"_source\"], \"\\n\")\n",
    "            login_list.append(doc[\"_source\"])\n",
    "            \n",
    "months = [item['month'] for item in login_list]\n",
    "total_logins = [item['total_logins'] for item in login_list]\n",
    "df = pd.DataFrame({'month': months, 'total_logins': total_logins})\n"
   ]
  },
  {
   "cell_type": "code",
   "execution_count": null,
   "id": "5b0112f6",
   "metadata": {},
   "outputs": [],
   "source": [
    "# Plotting the bar graph\n",
    "df.plot(x='month', y='total_logins', kind='bar', color='skyblue')\n",
    "\n",
    "# Customizing the graph\n",
    "plt.title('Total Logins by Month')\n",
    "plt.xlabel('Month')\n",
    "plt.ylabel('Total Logins')\n",
    "plt.xticks(rotation=45)\n",
    "\n",
    "# Display the graph\n",
    "plt.show()"
   ]
  }
 ],
 "metadata": {
  "kernelspec": {
   "display_name": "Python 3 (ipykernel)",
   "language": "python",
   "name": "python3"
  },
  "language_info": {
   "codemirror_mode": {
    "name": "ipython",
    "version": 3
   },
   "file_extension": ".py",
   "mimetype": "text/x-python",
   "name": "python",
   "nbconvert_exporter": "python",
   "pygments_lexer": "ipython3",
   "version": "3.9.16"
  }
 },
 "nbformat": 4,
 "nbformat_minor": 5
}
